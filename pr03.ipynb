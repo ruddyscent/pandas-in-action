{
 "cells": [
  {
   "cell_type": "code",
   "execution_count": 20,
   "id": "a1baef1e",
   "metadata": {},
   "outputs": [
    {
     "name": "stdout",
     "output_type": "stream",
     "text": [
      "--2021-09-09 02:53:34--  https://raw.githubusercontent.com/paskhaver/pandas-in-action/master/chapter_03_series_methods/revolutionary_war.csv\n",
      "Resolving raw.githubusercontent.com (raw.githubusercontent.com)... 185.199.110.133, 185.199.108.133, 185.199.109.133, ...\n",
      "Connecting to raw.githubusercontent.com (raw.githubusercontent.com)|185.199.110.133|:443... connected.\n",
      "HTTP request sent, awaiting response... 200 OK\n",
      "Length: 9626 (9.4K) [text/plain]\n",
      "Saving to: ‘revolutionary_war.csv.1’\n",
      "\n",
      "revolutionary_war.c 100%[===================>]   9.40K  --.-KB/s    in 0s      \n",
      "\n",
      "2021-09-09 02:53:34 (67.0 MB/s) - ‘revolutionary_war.csv.1’ saved [9626/9626]\n",
      "\n"
     ]
    }
   ],
   "source": [
    "import pandas as pd\n",
    "\n",
    "!wget https://raw.githubusercontent.com/paskhaver/pandas-in-action/master/chapter_03_series_methods/revolutionary_war.csv"
   ]
  },
  {
   "cell_type": "markdown",
   "id": "493c4373",
   "metadata": {},
   "source": [
    "# 1"
   ]
  },
  {
   "cell_type": "code",
   "execution_count": 12,
   "id": "695e4e2a",
   "metadata": {},
   "outputs": [],
   "source": [
    "battles = pd.read_csv(\"revolutionary_war.csv\", \n",
    "                      parse_dates=['Start Date'], \n",
    "                      usecols = ['Start Date'],\n",
    "                      squeeze = True)"
   ]
  },
  {
   "cell_type": "code",
   "execution_count": 13,
   "id": "05414f1b",
   "metadata": {},
   "outputs": [],
   "source": [
    "import datetime as dt\n",
    "\n",
    "def date_to_weekday(date):\n",
    "    return date.strftime(\"%A\")"
   ]
  },
  {
   "cell_type": "code",
   "execution_count": 17,
   "id": "b034c570",
   "metadata": {},
   "outputs": [
    {
     "data": {
      "text/plain": [
       "Saturday     39\n",
       "Friday       39\n",
       "Wednesday    32\n",
       "Thursday     31\n",
       "Sunday       31\n",
       "Tuesday      29\n",
       "Monday       27\n",
       "Name: Start Date, dtype: int64"
      ]
     },
     "execution_count": 17,
     "metadata": {},
     "output_type": "execute_result"
    }
   ],
   "source": [
    "battles.dropna().apply(date_to_weekday).value_counts()"
   ]
  },
  {
   "cell_type": "code",
   "execution_count": null,
   "id": "9da7963c",
   "metadata": {},
   "outputs": [],
   "source": []
  }
 ],
 "metadata": {
  "kernelspec": {
   "display_name": "Python 3 (ipykernel)",
   "language": "python",
   "name": "python3"
  },
  "language_info": {
   "codemirror_mode": {
    "name": "ipython",
    "version": 3
   },
   "file_extension": ".py",
   "mimetype": "text/x-python",
   "name": "python",
   "nbconvert_exporter": "python",
   "pygments_lexer": "ipython3",
   "version": "3.8.10"
  }
 },
 "nbformat": 4,
 "nbformat_minor": 5
}
